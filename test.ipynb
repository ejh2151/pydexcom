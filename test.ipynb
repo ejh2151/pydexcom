{
 "cells": [
  {
   "cell_type": "code",
   "execution_count": 1,
   "id": "f18319c6-fc52-4917-a421-c632b8562f3a",
   "metadata": {},
   "outputs": [
    {
     "data": {
      "text/plain": [
       "114"
      ]
     },
     "execution_count": 1,
     "metadata": {},
     "output_type": "execute_result"
    }
   ],
   "source": [
    "from pydexcom import Dexcom\n",
    "dexcom = Dexcom(\"Cyler102\", \"Cyler102@\")\n",
    "bg = dexcom.get_current_glucose_reading()\n",
    "bg.value"
   ]
  },
  {
   "cell_type": "code",
   "execution_count": null,
   "id": "bec2968b-b917-4c64-8caf-05c582b9bdd4",
   "metadata": {},
   "outputs": [],
   "source": []
  }
 ],
 "metadata": {
  "kernelspec": {
   "display_name": "Python 3 (ipykernel)",
   "language": "python",
   "name": "python3"
  },
  "language_info": {
   "codemirror_mode": {
    "name": "ipython",
    "version": 3
   },
   "file_extension": ".py",
   "mimetype": "text/x-python",
   "name": "python",
   "nbconvert_exporter": "python",
   "pygments_lexer": "ipython3",
   "version": "3.9.13"
  }
 },
 "nbformat": 4,
 "nbformat_minor": 5
}
