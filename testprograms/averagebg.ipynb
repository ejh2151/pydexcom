{
 "cells": [
  {
   "cell_type": "code",
   "execution_count": 10,
   "id": "f18319c6-fc52-4917-a421-c632b8562f3a",
   "metadata": {
    "tags": []
   },
   "outputs": [],
   "source": [
    "from pydexcom import Dexcom\n",
    "from pydexcom import GlucoseReading\n",
    "dexcom = Dexcom(\"Cyler102\", \"Cyler102@\")\n",
    "bg = dexcom.get_current_glucose_reading()"
   ]
  },
  {
   "cell_type": "code",
   "execution_count": 11,
   "id": "694a19c6-c672-42b2-b55e-4495f2940021",
   "metadata": {},
   "outputs": [
    {
     "name": "stdout",
     "output_type": "stream",
     "text": [
      "109.17\n"
     ]
    }
   ],
   "source": [
    "average = 0\n",
    "count = 0\n",
    "\n",
    "bg_list = dexcom.get_glucose_readings(max_count=100)\n",
    "import json\n",
    "with open('bg_file.json', 'w') as f:\n",
    "    for bg in bg_list:\n",
    "        f.write(json.dumps(bg.json)+\"\\n\")\n",
    "        x = bg.value\n",
    "        average += x\n",
    "        count += 1\n",
    "    print(average/count)"
   ]
  },
  {
   "cell_type": "code",
   "execution_count": 12,
   "id": "bec2968b-b917-4c64-8caf-05c582b9bdd4",
   "metadata": {},
   "outputs": [],
   "source": [
    "bg_list = []\n",
    "from pydexcom import GlucoseReading\n",
    "with open('bg_file.json', 'r') as f:\n",
    "    for line in f.readlines():\n",
    "        bg_list.append(GlucoseReading(json.loads(line)))"
   ]
  },
  {
   "cell_type": "code",
   "execution_count": null,
   "id": "9c2a0330-7afe-4097-8210-2cc0545477ae",
   "metadata": {},
   "outputs": [],
   "source": []
  },
  {
   "cell_type": "code",
   "execution_count": null,
   "id": "39a00e9b-0b94-4c2c-9d8c-14c5996b7bac",
   "metadata": {},
   "outputs": [],
   "source": []
  }
 ],
 "metadata": {
  "kernelspec": {
   "display_name": "Python 3 (ipykernel)",
   "language": "python",
   "name": "python3"
  },
  "language_info": {
   "codemirror_mode": {
    "name": "ipython",
    "version": 3
   },
   "file_extension": ".py",
   "mimetype": "text/x-python",
   "name": "python",
   "nbconvert_exporter": "python",
   "pygments_lexer": "ipython3",
   "version": "3.9.13"
  }
 },
 "nbformat": 4,
 "nbformat_minor": 5
}
