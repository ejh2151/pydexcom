{
 "cells": [
  {
   "cell_type": "code",
   "execution_count": 21,
   "id": "f18319c6-fc52-4917-a421-c632b8562f3a",
   "metadata": {
    "tags": []
   },
   "outputs": [
    {
     "data": {
      "text/plain": [
       "113"
      ]
     },
     "execution_count": 21,
     "metadata": {},
     "output_type": "execute_result"
    }
   ],
   "source": [
    "from pydexcom import Dexcom\n",
    "from pydexcom import GlucoseReading\n",
    "dexcom = Dexcom(\"Cyler102\", \"Cyler102@\")\n",
    "bg = dexcom.get_current_glucose_reading()"
   ]
  },
  {
   "cell_type": "code",
   "execution_count": 25,
   "id": "694a19c6-c672-42b2-b55e-4495f2940021",
   "metadata": {
    "collapsed": true,
    "jupyter": {
     "outputs_hidden": true
    },
    "tags": []
   },
   "outputs": [
    {
     "name": "stdout",
     "output_type": "stream",
     "text": [
      "114\n",
      "113\n",
      "113\n",
      "114\n",
      "114\n",
      "113\n",
      "113\n",
      "114\n",
      "116\n",
      "117\n",
      "116\n",
      "117\n",
      "117\n",
      "117\n",
      "117\n",
      "116\n",
      "114\n",
      "112\n",
      "112\n",
      "113\n",
      "113\n",
      "112\n",
      "108\n",
      "104\n",
      "100\n",
      "97\n",
      "98\n",
      "98\n",
      "98\n",
      "100\n",
      "101\n",
      "104\n",
      "106\n",
      "107\n",
      "108\n",
      "105\n",
      "105\n",
      "105\n",
      "107\n",
      "111\n",
      "114\n",
      "113\n",
      "111\n",
      "107\n",
      "102\n",
      "99\n",
      "95\n",
      "93\n",
      "91\n",
      "93\n",
      "98\n",
      "101\n",
      "106\n",
      "110\n",
      "113\n",
      "114\n",
      "114\n",
      "114\n",
      "114\n",
      "114\n",
      "113\n",
      "112\n",
      "111\n",
      "109\n",
      "106\n",
      "107\n",
      "110\n",
      "114\n",
      "112\n",
      "109\n",
      "107\n",
      "105\n",
      "105\n",
      "107\n",
      "110\n",
      "111\n",
      "111\n",
      "112\n",
      "111\n",
      "109\n",
      "110\n",
      "109\n",
      "111\n",
      "111\n",
      "113\n",
      "114\n",
      "115\n",
      "116\n",
      "116\n",
      "117\n",
      "118\n",
      "114\n",
      "110\n",
      "110\n",
      "110\n",
      "107\n",
      "107\n",
      "106\n",
      "102\n",
      "99\n"
     ]
    }
   ],
   "source": [
    "bg_list = dexcom.get_glucose_readings(max_count=100)\n",
    "import json\n",
    "with open('bg_file.json', 'w') as f:\n",
    "    for bg in bg_list:\n",
    "        f.write(json.dumps(bg.json)+\"\\n\")"
   ]
  },
  {
   "cell_type": "code",
   "execution_count": 8,
   "id": "bec2968b-b917-4c64-8caf-05c582b9bdd4",
   "metadata": {},
   "outputs": [],
   "source": [
    "bg_list = []\n",
    "from pydexcom import GlucoseReading\n",
    "with open('bg_file.json', 'r') as f:\n",
    "    for line in f.readlines():\n",
    "        bg_list.append(GlucoseReading(json.loads(line)))"
   ]
  },
  {
   "cell_type": "code",
   "execution_count": 22,
   "id": "9c2a0330-7afe-4097-8210-2cc0545477ae",
   "metadata": {},
   "outputs": [
    {
     "name": "stdout",
     "output_type": "stream",
     "text": [
      "[<pydexcom.GlucoseReading object at 0x000002B0895A2C70>, <pydexcom.GlucoseReading object at 0x000002B0895CCCA0>, <pydexcom.GlucoseReading object at 0x000002B0895CCAC0>, <pydexcom.GlucoseReading object at 0x000002B0895CCA00>, <pydexcom.GlucoseReading object at 0x000002B0895CCAF0>]\n"
     ]
    }
   ],
   "source": []
  },
  {
   "cell_type": "code",
   "execution_count": null,
   "id": "39a00e9b-0b94-4c2c-9d8c-14c5996b7bac",
   "metadata": {},
   "outputs": [],
   "source": []
  }
 ],
 "metadata": {
  "kernelspec": {
   "display_name": "Python 3 (ipykernel)",
   "language": "python",
   "name": "python3"
  },
  "language_info": {
   "codemirror_mode": {
    "name": "ipython",
    "version": 3
   },
   "file_extension": ".py",
   "mimetype": "text/x-python",
   "name": "python",
   "nbconvert_exporter": "python",
   "pygments_lexer": "ipython3",
   "version": "3.9.13"
  }
 },
 "nbformat": 4,
 "nbformat_minor": 5
}
